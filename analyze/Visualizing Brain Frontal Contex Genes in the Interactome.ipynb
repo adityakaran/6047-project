{
 "cells": [
  {
   "cell_type": "code",
   "execution_count": 2,
   "metadata": {
    "collapsed": true
   },
   "outputs": [],
   "source": [
    "import os\n",
    "import pandas as pd\n",
    "import mygene"
   ]
  },
  {
   "cell_type": "code",
   "execution_count": 3,
   "metadata": {
    "collapsed": true
   },
   "outputs": [],
   "source": [
    "m = mygene.MyGeneInfo()"
   ]
  },
  {
   "cell_type": "code",
   "execution_count": 4,
   "metadata": {
    "collapsed": true
   },
   "outputs": [],
   "source": [
    "PATH = os.getcwd()\n",
    "\n",
    "sig_gene_pairs_file = PATH + \"/tissue-genes-and-snps/Brain_Frontal_Cortex_BA9.signifpairs.txt\"\n",
    "frontal_cortex_genes = pd.read_csv(sig_gene_pairs_file, sep=\"\\t\")"
   ]
  },
  {
   "cell_type": "code",
   "execution_count": 5,
   "metadata": {},
   "outputs": [
    {
     "data": {
      "text/plain": [
       "5063"
      ]
     },
     "execution_count": 5,
     "metadata": {},
     "output_type": "execute_result"
    }
   ],
   "source": [
    "unique_fc_genes = list(map(lambda x: x.split(\".\")[0], set(frontal_cortex_genes[\"gene_id\"])))\n",
    "len(unique_fc_genes)"
   ]
  },
  {
   "cell_type": "code",
   "execution_count": 6,
   "metadata": {},
   "outputs": [
    {
     "name": "stdout",
     "output_type": "stream",
     "text": [
      "['ENSG00000164972', 'ENSG00000143252', 'ENSG00000065325', 'ENSG00000101695', 'ENSG00000257878', 'ENSG00000092295', 'ENSG00000072609', 'ENSG00000205642', 'ENSG00000271778', 'ENSG00000159685']\n"
     ]
    }
   ],
   "source": [
    "print(unique_fc_genes[0:10])"
   ]
  },
  {
   "cell_type": "code",
   "execution_count": 7,
   "metadata": {},
   "outputs": [
    {
     "name": "stdout",
     "output_type": "stream",
     "text": [
      "querying 1-1000...done.\n",
      "querying 1001-2000...done.\n",
      "querying 2001-3000...done.\n",
      "querying 3001-4000...done.\n",
      "querying 4001-5000...done.\n",
      "querying 5001-5063...done.\n"
     ]
    }
   ],
   "source": [
    "gene_info = m.getgenes(unique_fc_genes)"
   ]
  },
  {
   "cell_type": "code",
   "execution_count": 8,
   "metadata": {},
   "outputs": [
    {
     "name": "stdout",
     "output_type": "stream",
     "text": [
      "{'query': 'ENSG00000164972', '_id': '84688', '_score': 18.305006, 'entrezgene': '84688', 'name': 'chromosome 9 open reading frame 24', 'symbol': 'C9orf24', 'taxid': 9606}\n",
      "{'query': 'ENSG00000143252', '_id': '6391', '_score': 18.30248, 'entrezgene': '6391', 'name': 'succinate dehydrogenase complex subunit C', 'symbol': 'SDHC', 'taxid': 9606}\n",
      "{'query': 'ENSG00000065325', '_id': '9340', '_score': 17.744507, 'entrezgene': '9340', 'name': 'glucagon like peptide 2 receptor', 'symbol': 'GLP2R', 'taxid': 9606}\n",
      "{'query': 'ENSG00000101695', '_id': '54941', '_score': 18.289032, 'entrezgene': '54941', 'name': 'ring finger protein 125', 'symbol': 'RNF125', 'taxid': 9606}\n",
      "{'query': 'ENSG00000257878', '_id': 'ENSG00000257878', '_score': 19.043364, 'symbol': 'AC007298.2', 'taxid': 9606}\n",
      "{'query': 'ENSG00000092295', '_id': '7051', '_score': 17.827612, 'entrezgene': '7051', 'name': 'transglutaminase 1', 'symbol': 'TGM1', 'taxid': 9606}\n",
      "{'query': 'ENSG00000072609', '_id': '55743', '_score': 19.054176, 'entrezgene': '55743', 'name': 'checkpoint with forkhead and ring finger domains', 'symbol': 'CHFR', 'taxid': 9606}\n",
      "{'query': 'ENSG00000205642', '_id': '425054', '_score': 19.078054, 'entrezgene': '425054', 'name': 'variable charge X-linked 3B', 'symbol': 'VCX3B', 'taxid': 9606}\n",
      "{'query': 'ENSG00000271778', '_id': 'ENSG00000271778', '_score': 19.120728, 'symbol': 'AC080013.3', 'taxid': 9606}\n",
      "{'query': 'ENSG00000159685', '_id': '84303', '_score': 18.242212, 'entrezgene': '84303', 'name': 'coiled-coil-helix-coiled-coil-helix domain containing 6', 'symbol': 'CHCHD6', 'taxid': 9606}\n"
     ]
    }
   ],
   "source": [
    "for info in gene_info[0:10]:\n",
    "    print(info)"
   ]
  },
  {
   "cell_type": "code",
   "execution_count": 9,
   "metadata": {},
   "outputs": [
    {
     "name": "stdout",
     "output_type": "stream",
     "text": [
      "                                variant_id            gene_id  tss_distance  \\\n",
      "0                         1_780782_A_G_b37  ENSG00000225972.1        216340   \n",
      "1  1_1198496_T_TGGTGAACACAGACGCTACAGGC_b37  ENSG00000225972.1        634054   \n",
      "2                        1_1203387_G_A_b37  ENSG00000225972.1        638945   \n",
      "3                        1_1205155_A_C_b37  ENSG00000225972.1        640713   \n",
      "4                        1_1220367_G_A_b37  ENSG00000225972.1        655925   \n",
      "5                        1_1221001_A_G_b37  ENSG00000225972.1        656559   \n",
      "6                        1_1221302_A_G_b37  ENSG00000225972.1        656860   \n",
      "7                        1_1222051_A_G_b37  ENSG00000225972.1        657609   \n",
      "8                         1_710088_C_A_b37  ENSG00000224956.5         46561   \n",
      "9                         1_710195_A_G_b37  ENSG00000224956.5         46668   \n",
      "\n",
      "   ma_samples  ma_count       maf  pval_nominal    slope  slope_se  \\\n",
      "0           5         5  0.021186  2.553870e-06  1.71951  0.343726   \n",
      "1          10        11  0.046610  1.753130e-05  1.22168  0.270186   \n",
      "2          10        11  0.046610  1.753130e-05  1.22168  0.270186   \n",
      "3          11        12  0.050848  1.322080e-05  1.26509  0.275390   \n",
      "4           7         8  0.033898  2.330290e-05  1.16308  0.261472   \n",
      "5           8        10  0.042373  7.815070e-08  1.34643  0.231407   \n",
      "6           7         8  0.033898  2.330290e-05  1.16308  0.261472   \n",
      "7           8        10  0.042735  6.062970e-08  1.36680  0.232617   \n",
      "8           8         9  0.038462  4.926390e-06 -1.13155  0.233721   \n",
      "9           8         9  0.038136  5.959340e-06 -1.12299  0.234236   \n",
      "\n",
      "   pval_nominal_threshold  min_pval_nominal  pval_beta  \n",
      "0                0.000027      6.062970e-08   0.000090  \n",
      "1                0.000027      6.062970e-08   0.000090  \n",
      "2                0.000027      6.062970e-08   0.000090  \n",
      "3                0.000027      6.062970e-08   0.000090  \n",
      "4                0.000027      6.062970e-08   0.000090  \n",
      "5                0.000027      6.062970e-08   0.000090  \n",
      "6                0.000027      6.062970e-08   0.000090  \n",
      "7                0.000027      6.062970e-08   0.000090  \n",
      "8                0.000021      2.695860e-06   0.004168  \n",
      "9                0.000021      2.695860e-06   0.004168  \n"
     ]
    }
   ],
   "source": [
    "print(frontal_cortex_genes[0:10])"
   ]
  },
  {
   "cell_type": "code",
   "execution_count": 11,
   "metadata": {},
   "outputs": [],
   "source": [
    "# create map of entrenz id to slope\n",
    "ensembl_id_map = {}\n",
    "for info in gene_info:\n",
    "    ensembl_id = info['query']\n",
    "    if 'entrezgene' in info:\n",
    "        ensembl_id_map[ensembl_id] = int(info['entrezgene'])"
   ]
  },
  {
   "cell_type": "code",
   "execution_count": 12,
   "metadata": {},
   "outputs": [
    {
     "name": "stdout",
     "output_type": "stream",
     "text": [
      "4042\n"
     ]
    }
   ],
   "source": [
    "print(len(ensembl_id_map.keys()))"
   ]
  },
  {
   "cell_type": "code",
   "execution_count": 20,
   "metadata": {},
   "outputs": [
    {
     "name": "stdout",
     "output_type": "stream",
     "text": [
      "147\n",
      "1\n"
     ]
    }
   ],
   "source": [
    "id_gene_map = {}\n",
    "for idx, gene in frontal_cortex_genes.iterrows():\n",
    "    ensembl_id = gene['gene_id'].split('.')[0]\n",
    "    if ensembl_id in ensembl_id_map:\n",
    "        entrenz_id = ensembl_id_map[ensembl_id]\n",
    "        id_gene_map[entrenz_id] = gene\n",
    "        print(idx)\n",
    "        break\n",
    "        \n",
    "print(len(id_gene_map.keys()))"
   ]
  },
  {
   "cell_type": "code",
   "execution_count": null,
   "metadata": {
    "collapsed": true
   },
   "outputs": [],
   "source": []
  }
 ],
 "metadata": {
  "kernelspec": {
   "display_name": "Python 3",
   "language": "python",
   "name": "python3"
  },
  "language_info": {
   "codemirror_mode": {
    "name": "ipython",
    "version": 3
   },
   "file_extension": ".py",
   "mimetype": "text/x-python",
   "name": "python",
   "nbconvert_exporter": "python",
   "pygments_lexer": "ipython3",
   "version": "3.6.1"
  }
 },
 "nbformat": 4,
 "nbformat_minor": 2
}
