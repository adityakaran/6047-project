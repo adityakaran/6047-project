{
 "cells": [
  {
   "cell_type": "code",
   "execution_count": 1,
   "metadata": {},
   "outputs": [],
   "source": [
    "import interactome as I"
   ]
  },
  {
   "cell_type": "code",
   "execution_count": 2,
   "metadata": {},
   "outputs": [],
   "source": [
    "ixome = I.Interactome(I.PATH + I.INTERACTOME_FILE)"
   ]
  },
  {
   "cell_type": "code",
   "execution_count": 3,
   "metadata": {},
   "outputs": [],
   "source": [
    "schiz_genes = []\n",
    "with open(\"./disease-genes/schizophrenia.txt\") as f:\n",
    "    for line in f:\n",
    "        schiz_genes.append(int(line.strip()))"
   ]
  },
  {
   "cell_type": "code",
   "execution_count": 4,
   "metadata": {},
   "outputs": [
    {
     "name": "stdout",
     "output_type": "stream",
     "text": [
      "gene 6365 not in ixome\n",
      "gene 8401 not in ixome\n",
      "gene 8806 not in ixome\n",
      "gene 6377 not in ixome\n",
      "gene 8400 not in ixome\n",
      "gene 100196913 not in ixome\n",
      "gene 100329170 not in ixome\n",
      "gene 404686 not in ixome\n",
      "gene 619488 not in ixome\n",
      "gene 6378 not in ixome\n",
      "gene 63944 not in ixome\n",
      "gene 4095 not in ixome\n",
      "gene 27184 not in ixome\n",
      "gene 3782 not in ixome\n",
      "gene 282706 not in ixome\n",
      "gene 100188832 not in ixome\n",
      "gene 154664 not in ixome\n",
      "gene 29801 not in ixome\n",
      "gene 319100 not in ixome\n",
      "gene 449489 not in ixome\n",
      "gene 4096 not in ixome\n",
      "gene 338386 not in ixome\n",
      "gene 64067 not in ixome\n",
      "gene 89832 not in ixome\n",
      "gene 90273 not in ixome\n",
      "gene 140805 not in ixome\n",
      "gene 4963 not in ixome\n",
      "gene 50971 not in ixome\n",
      "gene 5816 not in ixome\n",
      "gene 80833 not in ixome\n",
      "gene 6899 not in ixome\n"
     ]
    }
   ],
   "source": [
    "cnt = 0\n",
    "schiz_genes_in_ixome = []\n",
    "for gene in schiz_genes:\n",
    "    if not ixome.G.has_node(gene):\n",
    "        cnt += 1\n",
    "        print(f\"gene {gene} not in ixome\")\n",
    "    else:\n",
    "        schiz_genes_in_ixome.append(gene)"
   ]
  },
  {
   "cell_type": "code",
   "execution_count": 5,
   "metadata": {},
   "outputs": [],
   "source": [
    "schiz_graph = ixome.G.subgraph(schiz_genes_in_ixome)"
   ]
  },
  {
   "cell_type": "code",
   "execution_count": 6,
   "metadata": {},
   "outputs": [],
   "source": [
    "import matplotlib.pyplot as plt\n",
    "import networkx as nx\n",
    "\n",
    "nx.draw(schiz_graph, node_size=10)"
   ]
  },
  {
   "cell_type": "code",
   "execution_count": 8,
   "metadata": {},
   "outputs": [],
   "source": [
    "def get_disease_genes(disease):\n",
    "    disease_genes = []\n",
    "    disease_genes_in_ixome = []\n",
    "    disease_genes_excluded = []\n",
    "    with open(f\"./disease-genes/{disease}.txt\") as f:\n",
    "        for line in f:\n",
    "            gene = int(line.strip())\n",
    "            disease_genes.append(gene)\n",
    "            if not ixome.G.has_node(gene):\n",
    "                disease_genes_excluded.append(gene)\n",
    "                print(f\"gene {gene} not in ixome\")\n",
    "            else:\n",
    "                disease_genes_in_ixome.append(gene)\n",
    "    \n",
    "    return disease_genes, disease_genes_in_ixome, disease_genes_excluded"
   ]
  },
  {
   "cell_type": "code",
   "execution_count": 8,
   "metadata": {},
   "outputs": [
    {
     "name": "stdout",
     "output_type": "stream",
     "text": [
      "gene 4095 not in ixome\n",
      "gene 4096 not in ixome\n",
      "gene 100188792 not in ixome\n",
      "gene 100126593 not in ixome\n",
      "gene 100196917 not in ixome\n",
      "gene 100196912 not in ixome\n",
      "gene 100188844 not in ixome\n",
      "gene 8401 not in ixome\n",
      "gene 100188843 not in ixome\n",
      "gene 154664 not in ixome\n",
      "gene 6365 not in ixome\n",
      "gene 282706 not in ixome\n",
      "gene 8806 not in ixome\n",
      "gene 3782 not in ixome\n",
      "gene 10386 not in ixome\n",
      "gene 50979 not in ixome\n",
      "gene 431708 not in ixome\n",
      "gene 9030 not in ixome\n",
      "gene 92126 not in ixome\n",
      "gene 94313 not in ixome\n",
      "gene 6377 not in ixome\n",
      "gene 284111 not in ixome\n",
      "gene 100196913 not in ixome\n",
      "gene 339896 not in ixome\n",
      "gene 2558 not in ixome\n",
      "gene 134860 not in ixome\n",
      "gene 266722 not in ixome\n",
      "gene 753 not in ixome\n",
      "gene 1243 not in ixome\n",
      "gene 387572 not in ixome\n",
      "gene 345193 not in ixome\n",
      "gene 619493 not in ixome\n",
      "gene 100188832 not in ixome\n",
      "gene 50948 not in ixome\n",
      "gene 677663 not in ixome\n",
      "gene 30813 not in ixome\n",
      "gene 128408 not in ixome\n",
      "gene 133584 not in ixome\n"
     ]
    }
   ],
   "source": [
    "bipolar_genes, bipolar_ixome, bipolar_not_ixome = get_disease_genes(\"bipolar\")"
   ]
  },
  {
   "cell_type": "code",
   "execution_count": 9,
   "metadata": {},
   "outputs": [
    {
     "data": {
      "text/plain": [
       "(70, 108)"
      ]
     },
     "execution_count": 9,
     "metadata": {},
     "output_type": "execute_result"
    }
   ],
   "source": [
    "len(bipolar_ixome), len(bipolar_genes)"
   ]
  },
  {
   "cell_type": "code",
   "execution_count": 219,
   "metadata": {},
   "outputs": [
    {
     "name": "stdout",
     "output_type": "stream",
     "text": [
      "gene 55315 not in ixome\n",
      "gene 346171 not in ixome\n"
     ]
    }
   ],
   "source": [
    "bipolar_genes, bipolar_ixome, bipolar_not_ixome = get_disease_genes(\"bipolar\")\n",
    "schizophrenia_genes, schizophrenia_ixome, _ = get_disease_genes(\"schizophrenia\")\n",
    "autism_genes, autism_ixome, _ = get_disease_genes(\"autism\")\n",
    "heart_genes, heart_ixome, _ = get_disease_genes(\"heart_disease\")\n",
    "diabetes_genes, diabetes_ixome, _ = get_disease_genes(\"diabetes\")"
   ]
  },
  {
   "cell_type": "code",
   "execution_count": 13,
   "metadata": {},
   "outputs": [],
   "source": [
    "def get_disease_subgraph(disease_genes, ixome):\n",
    "    return ixome.G.subgraph(disease_genes)"
   ]
  },
  {
   "cell_type": "code",
   "execution_count": 187,
   "metadata": {},
   "outputs": [
    {
     "data": {
      "image/png": "[encoded data removed]",
      "text/plain": [
       "<Figure size 432x288 with 1 Axes>"
      ]
     },
     "metadata": {
      "needs_background": "light"
     },
     "output_type": "display_data"
    }
   ],
   "source": [
    "bipolar_module = get_disease_subgraph(bipolar_ixome, ixome)\n",
    "\n",
    "nx.draw_networkx(bipolar_module, with_labels=False, node_size=10)\n",
    "\n",
    "#combined = list(set().union(bipolar_ixome, schizophrenia_ixome, autism_ixome))\n",
    "\n",
    "#all_diseased = get_disease_subgraph(combined, ixome)\n",
    "#nx.draw_networkx(all_diseased, with_labels=False, node_size=2)\n"
   ]
  },
  {
   "cell_type": "code",
   "execution_count": 64,
   "metadata": {},
   "outputs": [],
   "source": [
    "import os\n",
    "import mygene\n",
    "import pandas as pd\n",
    "\n",
    "def generate_significant_ids(textfile):\n",
    "    m = mygene.MyGeneInfo()\n",
    "    PATH = os.getcwd()\n",
    "    sig_gene_pairs_file = os.path.join(PATH, 'tissue-genes-and-snps', textfile)\n",
    "#    sig_gene_pairs_file = PATH + \"/tissue-genes-and-snps/Heart_Atrial_Appendage.signifpairs.txt\"\n",
    "\n",
    "    #sig_gene_pairs_file = PATH + \"/tissue-genes-and-snps/Brain_Hippocampus.v7.signif_variant_gene_pairs.txt\"\n",
    "\n",
    "    gene_names = PATH + \"/gene-map/geneids.txt\" # source: https://www.genenames.org/download/custom/+\n",
    "    gene_map = pd.read_csv(gene_names, sep=\"\\t\")\n",
    "\n",
    "    hippocampus_genes = pd.read_csv(sig_gene_pairs_file, sep=\"\\t\")\n",
    "  #  hippocampus_genes = hippocampus_genes[hippocampus_genes.pval_nominal < 1e-6]\n",
    "    unique_hc_genes = list(map(lambda x: x.split(\".\")[0], set(hippocampus_genes[\"gene_id\"])))\n",
    "    gene_info = m.getgenes(unique_hc_genes)\n",
    "    hc_genes_sig = []\n",
    "    k = 'entrezgene'\n",
    "    for info in gene_info:\n",
    "        if( k in info.keys()):\n",
    "            hc_genes_sig.append(int(info[k]))\n",
    "    return(hc_genes_sig)"
   ]
  },
  {
   "cell_type": "code",
   "execution_count": 65,
   "metadata": {},
   "outputs": [
    {
     "name": "stdout",
     "output_type": "stream",
     "text": [
      "querying 1-1000...done.\n",
      "querying 1001-2000...done.\n",
      "querying 2001-3000...done.\n",
      "querying 3001-3249...done.\n",
      "querying 1-1000...done.\n",
      "querying 1001-2000...done.\n",
      "querying 2001-3000...done.\n",
      "querying 3001-4000...done.\n"
     ]
    }
   ],
   "source": [
    "sig_brain = generate_significant_ids(\"Brain_Hippocampus.v7.signif_variant_gene_pairs.txt\")\n",
    "sig_liver = generate_significant_ids(\"Liver.signifpairs.txt\")"
   ]
  },
  {
   "cell_type": "code",
   "execution_count": 141,
   "metadata": {},
   "outputs": [],
   "source": [
    "def wrapper_func(ixome, n1, n2):\n",
    "    try:\n",
    "        return(nx.shortest_path_length(ixome.G, n1, n2))\n",
    "    except nx.NetworkXNoPath:\n",
    "        return(float('inf'))\n",
    "        \n",
    "\n",
    "def nodes_distance(ixome, gene_list):\n",
    "    avg_distances_lst = []\n",
    "    min_distances_lst = []\n",
    "    num_no_path = 0\n",
    "    for i in range(0, len(gene_list)):\n",
    "        cant_find = []\n",
    "        distances = []\n",
    "        others = gene_list[:i] + gene_list[i+1:]\n",
    "        for g in others:\n",
    "            d = wrapper_func(ixome, gene_list[i], g)\n",
    "            if(d == float('inf')):\n",
    "                cant_find.append(g)\n",
    "            else:\n",
    "                distances.append(d)\n",
    "        if(len(distances) == 0):\n",
    "            num_no_path += 1\n",
    "        else:\n",
    "            avg = sum(distances) / len(distances)\n",
    "            min_d = min(distances)\n",
    "            avg_distances_lst.append(avg)\n",
    "            min_distances_lst.append(min_d)\n",
    "    return(avg_distances_lst, min_distances_lst, num_no_path)\n",
    "        "
   ]
  },
  {
   "cell_type": "code",
   "execution_count": 142,
   "metadata": {},
   "outputs": [],
   "source": [
    "def find_distances(disease_ixome, ixome):\n",
    "    disease_module = get_disease_subgraph(disease_ixome, ixome)\n",
    "    shown_brain = list(set(disease_module).intersection(set(sig_brain)))\n",
    "\n",
    "    shown_liver= list(set(disease_module).intersection(set(sig_liver)))\n",
    "    a = nodes_distance(ixome, shown_liver)\n",
    "    b =  nodes_distance(ixome, shown_brain)\n",
    "    \n",
    "    res = {}\n",
    "    res['liver'] = a\n",
    "    res['brain'] = b\n",
    "    return(res)\n",
    " \n"
   ]
  },
  {
   "cell_type": "code",
   "execution_count": 143,
   "metadata": {},
   "outputs": [
    {
     "name": "stdout",
     "output_type": "stream",
     "text": [
      "{'autism': {'liver': ([3.75, 3.75, 3.5, 4.25, 3.25], [3, 3, 3, 4, 3], 0), 'brain': ([3.25, 2.75, 3.25, 2.75, 2.5], [3, 2, 3, 2, 2], 0)}, 'schizophrenia': {'liver': ([3.1578947368421053, 3.0, 4.105263157894737, 3.473684210526316, 3.210526315789474, 3.3157894736842106, 3.210526315789474, 2.789473684210526, 3.6315789473684212, 3.0, 2.3157894736842106, 3.0526315789473686, 3.6842105263157894, 3.0526315789473686, 3.789473684210526, 3.0526315789473686, 3.210526315789474, 3.3157894736842106, 3.1578947368421053, 3.3157894736842106], [2, 2, 3, 3, 2, 2, 2, 2, 3, 1, 1, 1, 2, 2, 2, 2, 2, 2, 1, 2], 2), 'brain': ([3.176470588235294, 4.235294117647059, 3.764705882352941, 2.9411764705882355, 3.764705882352941, 3.7058823529411766, 3.764705882352941, 2.9411764705882355, 4.117647058823529, 2.823529411764706, 3.5294117647058822, 3.235294117647059, 3.5294117647058822, 3.235294117647059, 3.0, 3.2941176470588234, 3.235294117647059, 3.0], [2, 3, 3, 2, 3, 2, 3, 2, 3, 2, 2, 3, 3, 2, 2, 2, 2, 2], 1)}, 'bipolar': {'liver': ([3.3333333333333335, 4.0, 3.6666666666666665, 3.0], [3, 3, 3, 3], 0), 'brain': ([3.5, 3.6666666666666665, 3.3333333333333335, 3.1666666666666665, 4.666666666666667, 4.166666666666667, 3.5], [3, 3, 2, 2, 4, 4, 3], 1)}}\n"
     ]
    }
   ],
   "source": [
    "data = {}\n",
    "data['autism'] = find_distances(autism_ixome, ixome)\n",
    "data['schizophrenia'] = find_distances(schizophrenia_ixome, ixome)\n",
    "data['bipolar'] = find_distances(bipolar_ixome, ixome)\n",
    "print(data)"
   ]
  },
  {
   "cell_type": "code",
   "execution_count": null,
   "metadata": {},
   "outputs": [],
   "source": []
  },
  {
   "cell_type": "code",
   "execution_count": 149,
   "metadata": {},
   "outputs": [],
   "source": [
    "def generate_single_tissue_data(d1, d2, ixome):\n",
    "    data = {}\n",
    "    for n1 in d1:\n",
    "        unpaired = []\n",
    "        paired = []\n",
    "        for n2 in d2:\n",
    "            dis = wrapper_func(ixome, n1, n2)\n",
    "            if(dis == float('inf')):\n",
    "                unpaired.append(n2)\n",
    "            else:\n",
    "                paired.append(dis)\n",
    "        data[n1] = (paired, unpaired)\n",
    "    return(data)\n",
    "\n",
    "\n",
    "def find_distances_clusters(disease1_ixome, disease2_ixome, ixome):\n",
    "    disease_module1 = get_disease_subgraph(disease1_ixome, ixome)\n",
    "    disease_module2 = get_disease_subgraph(disease2_ixome, ixome)    \n",
    "    brain1 = list(set(disease_module1).intersection(set(sig_brain)))\n",
    "    brain2 = list(set(disease_module2).intersection(set(sig_brain)))\n",
    "    \n",
    "    liver1= list(set(disease_module1).intersection(set(sig_liver)))\n",
    "    liver2= list(set(disease_module2).intersection(set(sig_liver)))\n",
    "    \n",
    "    data_brain  = generate_single_tissue_data(brain1, brain2, ixome)\n",
    "    data_liver = generate_single_tissue_data(liver1, liver2, ixome)\n",
    "    return(data_brain, data_liver)"
   ]
  },
  {
   "cell_type": "code",
   "execution_count": 182,
   "metadata": {},
   "outputs": [
    {
     "name": "stdout",
     "output_type": "stream",
     "text": [
      "WA distance for brain is 3.222222 \n",
      "Num disconnected for brain is 1.000000\n",
      "WA distance for liver is 3.270000 \n",
      "Num disconnected for liver is 2.000000\n"
     ]
    }
   ],
   "source": [
    "(brain_data, liver_data) = find_distances_clusters(autism_ixome, schizophrenia_ixome, ixome)\n",
    "c = list(brain_data.values())\n",
    "num_dis = len(c[0][1])\n",
    "b = sum([ sum(x[0]) for x in c])\n",
    "c = sum([len(x[0]) for x in c])\n",
    "print(\"WA distance for brain is %f \" % float(b/c))\n",
    "print(\"Num disconnected for brain is %f\" % num_dis)\n",
    "\n",
    "c = list(liver_data.values())\n",
    "num_dis = len(c[0][1])\n",
    "\n",
    "b = sum([ sum(x[0]) for x in c])\n",
    "c = sum([len(x[0]) for x in c])\n",
    "print(\"WA distance for liver is %f \" % float(b/c))\n",
    "print(\"Num disconnected for liver is %f\" % num_dis)\n",
    "\n"
   ]
  },
  {
   "cell_type": "code",
   "execution_count": 201,
   "metadata": {},
   "outputs": [],
   "source": [
    "def within_dist(G, disease_ixome, dist):\n",
    "\n",
    "    res_degree = [list(nx.single_source_shortest_path_length(G, x, dist).keys()) for x in disease_ixome]\n",
    "    res_degree= set().union(*res_degree)\n",
    "    return(res_degree)\n",
    "\n",
    "\n"
   ]
  },
  {
   "cell_type": "code",
   "execution_count": 202,
   "metadata": {},
   "outputs": [],
   "source": [
    "autism_degree2 = within_dist(ixome.G, autism_ixome, 2)\n",
    "schizophrenia_degree2 = within_dist(ixome.G, schizophrenia_ixome, 2)\n",
    "bipolar_degree2 = within_dist(ixome.G, bipolar_ixome, 2)\n"
   ]
  },
  {
   "cell_type": "code",
   "execution_count": 228,
   "metadata": {},
   "outputs": [],
   "source": [
    "import matplotlib.pyplot as plt\n",
    "import numpy as np\n",
    "def intersect_remove(s1, s2, r1, r2):\n",
    "    inter = (s1.intersection(s2)).difference(set(r1).union(r2))\n",
    "    return(inter)\n"
   ]
  },
  {
   "cell_type": "code",
   "execution_count": 232,
   "metadata": {},
   "outputs": [],
   "source": [
    "\n",
    "distances_x = [1, 2, 3]\n",
    "a1 = []\n",
    "a2 = []\n",
    "a3 = []\n",
    "a4 = []\n",
    "autism_cross = []\n",
    "bipolar_cross = []\n",
    "schizophrenia_cross = []\n",
    "heart_cross = []\n",
    "diabetes_cross = []\n",
    "data = {'autism' : [], 'bipolar' : [], 'schizophrenia' : [], \n",
    "        'heart' : [], 'diabetes' : []}\n",
    "\n",
    "for x in distances_x:\n",
    "    autism_degree = within_dist(ixome.G, autism_ixome, x)\n",
    "    schizophrenia_degree = within_dist(ixome.G, schizophrenia_ixome, x)\n",
    "    bipolar_degree = within_dist(ixome.G, bipolar_ixome, x)\n",
    "    heart_degree = within_dist(ixome.G, heart_ixome, x)\n",
    "    diabetes_degree = within_dist(ixome.G, diabetes_ixome, x)\n",
    "\n",
    "    a1.append(len(intersect_remove(autism_degree, bipolar_degree, autism_ixome, bipolar_ixome)))\n",
    "    a2.append(len(intersect_remove(autism_degree, schizophrenia_degree, autism_ixome, schizophrenia_ixome)))\n",
    "    a3.append(len(intersect_remove(autism_degree, heart_degree, autism_ixome, heart_ixome)))\n",
    "    a4.append(len(intersect_remove(autism_degree, diabetes_degree, autism_ixome, diabetes_ixome)))\n"
   ]
  },
  {
   "cell_type": "code",
   "execution_count": 233,
   "metadata": {},
   "outputs": [
    {
     "data": {
      "image/png": "[encoded data removed]",
      "text/plain": [
       "<Figure size 432x288 with 1 Axes>"
      ]
     },
     "metadata": {
      "needs_background": "light"
     },
     "output_type": "display_data"
    }
   ],
   "source": [
    "plt.scatter(distances_x, np.log(a1), label = \"bipolar\")\n",
    "plt.scatter(distances_x, np.log(a2), label = \"schizophrenia\")\n",
    "plt.scatter(distances_x, np.log(a3), label = \"heart\")\n",
    "plt.scatter(distances_x, np.log(a4), label = \"diabetes\")\n",
    "plt.legend()\n",
    "plt.xlabel(\"distance\")\n",
    "plt.ylabel(\"Num nodes (log)\")\n",
    "plt.show()\n"
   ]
  },
  {
   "cell_type": "code",
   "execution_count": 23,
   "metadata": {},
   "outputs": [],
   "source": [
    "#for cc in nx.connected_components(bipolar_module):\n",
    "   # print(len(cc))"
   ]
  },
  {
   "cell_type": "code",
   "execution_count": 24,
   "metadata": {},
   "outputs": [],
   "source": [
    "#for cc in nx.connected_components(schiz_graph):\n",
    "    #print(len(cc))"
   ]
  },
  {
   "cell_type": "code",
   "execution_count": null,
   "metadata": {
    "collapsed": true
   },
   "outputs": [],
   "source": [
    "bipolar_module.edges()"
   ]
  },
  {
   "cell_type": "code",
   "execution_count": null,
   "metadata": {
    "collapsed": true
   },
   "outputs": [],
   "source": [
    "schiz_graph.edges()"
   ]
  },
  {
   "cell_type": "code",
   "execution_count": null,
   "metadata": {
    "collapsed": true
   },
   "outputs": [],
   "source": []
  }
 ],
 "metadata": {
  "kernelspec": {
   "display_name": "Python 3",
   "language": "python",
   "name": "python3"
  },
  "language_info": {
   "codemirror_mode": {
    "name": "ipython",
    "version": 3
   },
   "file_extension": ".py",
   "mimetype": "text/x-python",
   "name": "python",
   "nbconvert_exporter": "python",
   "pygments_lexer": "ipython3",
   "version": "3.7.0"
  },
  "varInspector": {
   "cols": {
    "lenName": 16,
    "lenType": 16,
    "lenVar": 40
   },
   "kernels_config": {
    "python": {
     "delete_cmd_postfix": "",
     "delete_cmd_prefix": "del ",
     "library": "var_list.py",
     "varRefreshCmd": "print(var_dic_list())"
    },
    "r": {
     "delete_cmd_postfix": ") ",
     "delete_cmd_prefix": "rm(",
     "library": "var_list.r",
     "varRefreshCmd": "cat(var_dic_list()) "
    }
   },
   "types_to_exclude": [
    "module",
    "function",
    "builtin_function_or_method",
    "instance",
    "_Feature"
   ],
   "window_display": false
  }
 },
 "nbformat": 4,
 "nbformat_minor": 2
}
