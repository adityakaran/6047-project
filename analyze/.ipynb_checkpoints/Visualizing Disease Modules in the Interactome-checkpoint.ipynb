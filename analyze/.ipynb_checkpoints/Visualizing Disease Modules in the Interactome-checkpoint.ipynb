{
 "cells": [
  {
   "cell_type": "code",
   "execution_count": 1,
   "metadata": {},
   "outputs": [],
   "source": [
    "import interactome as I"
   ]
  },
  {
   "cell_type": "code",
   "execution_count": 2,
   "metadata": {},
   "outputs": [],
   "source": [
    "ixome = I.Interactome(I.PATH + I.INTERACTOME_FILE)"
   ]
  },
  {
   "cell_type": "code",
   "execution_count": 3,
   "metadata": {},
   "outputs": [],
   "source": [
    "schiz_genes = []\n",
    "with open(\"./disease-genes/schizophrenia.txt\") as f:\n",
    "    for line in f:\n",
    "        schiz_genes.append(int(line.strip()))"
   ]
  },
  {
   "cell_type": "code",
   "execution_count": 4,
   "metadata": {},
   "outputs": [
    {
     "name": "stdout",
     "output_type": "stream",
     "text": [
      "gene 6365 not in ixome\n",
      "gene 8401 not in ixome\n",
      "gene 8806 not in ixome\n",
      "gene 6377 not in ixome\n",
      "gene 8400 not in ixome\n",
      "gene 100196913 not in ixome\n",
      "gene 100329170 not in ixome\n",
      "gene 404686 not in ixome\n",
      "gene 619488 not in ixome\n",
      "gene 6378 not in ixome\n",
      "gene 63944 not in ixome\n",
      "gene 4095 not in ixome\n",
      "gene 27184 not in ixome\n",
      "gene 3782 not in ixome\n",
      "gene 282706 not in ixome\n",
      "gene 100188832 not in ixome\n",
      "gene 154664 not in ixome\n",
      "gene 29801 not in ixome\n",
      "gene 319100 not in ixome\n",
      "gene 449489 not in ixome\n",
      "gene 4096 not in ixome\n",
      "gene 338386 not in ixome\n",
      "gene 64067 not in ixome\n",
      "gene 89832 not in ixome\n",
      "gene 90273 not in ixome\n",
      "gene 140805 not in ixome\n",
      "gene 4963 not in ixome\n",
      "gene 50971 not in ixome\n",
      "gene 5816 not in ixome\n",
      "gene 80833 not in ixome\n",
      "gene 6899 not in ixome\n"
     ]
    }
   ],
   "source": [
    "cnt = 0\n",
    "schiz_genes_in_ixome = []\n",
    "for gene in schiz_genes:\n",
    "    if not ixome.G.has_node(gene):\n",
    "        cnt += 1\n",
    "        print(f\"gene {gene} not in ixome\")\n",
    "    else:\n",
    "        schiz_genes_in_ixome.append(gene)"
   ]
  },
  {
   "cell_type": "code",
   "execution_count": 5,
   "metadata": {},
   "outputs": [],
   "source": [
    "schiz_graph = ixome.G.subgraph(schiz_genes_in_ixome)"
   ]
  },
  {
   "cell_type": "code",
   "execution_count": 6,
   "metadata": {},
   "outputs": [
    {
     "data": {
      "text/plain": [
       "<Figure size 640x480 with 1 Axes>"
      ]
     },
     "metadata": {},
     "output_type": "display_data"
    }
   ],
   "source": [
    "import matplotlib.pyplot as plt\n",
    "import networkx as nx\n",
    "\n",
    "nx.draw(schiz_graph)\n",
    "plt.show()"
   ]
  },
  {
   "cell_type": "code",
   "execution_count": 7,
   "metadata": {},
   "outputs": [],
   "source": [
    "def get_disease_genes(disease):\n",
    "    disease_genes = []\n",
    "    disease_genes_in_ixome = []\n",
    "    disease_genes_excluded = []\n",
    "    with open(f\"./disease-genes/{disease}.txt\") as f:\n",
    "        for line in f:\n",
    "            gene = int(line.strip())\n",
    "            disease_genes.append(gene)\n",
    "            if not ixome.G.has_node(gene):\n",
    "                disease_genes_excluded.append(gene)\n",
    "                print(f\"gene {gene} not in ixome\")\n",
    "            else:\n",
    "                disease_genes_in_ixome.append(gene)\n",
    "    \n",
    "    return disease_genes, disease_genes_in_ixome, disease_genes_excluded"
   ]
  },
  {
   "cell_type": "code",
   "execution_count": 8,
   "metadata": {},
   "outputs": [
    {
     "name": "stdout",
     "output_type": "stream",
     "text": [
      "gene 4095 not in ixome\n",
      "gene 4096 not in ixome\n",
      "gene 100188792 not in ixome\n",
      "gene 100126593 not in ixome\n",
      "gene 100196917 not in ixome\n",
      "gene 100196912 not in ixome\n",
      "gene 100188844 not in ixome\n",
      "gene 8401 not in ixome\n",
      "gene 100188843 not in ixome\n",
      "gene 154664 not in ixome\n",
      "gene 6365 not in ixome\n",
      "gene 282706 not in ixome\n",
      "gene 8806 not in ixome\n",
      "gene 3782 not in ixome\n",
      "gene 10386 not in ixome\n",
      "gene 50979 not in ixome\n",
      "gene 431708 not in ixome\n",
      "gene 9030 not in ixome\n",
      "gene 92126 not in ixome\n",
      "gene 94313 not in ixome\n",
      "gene 6377 not in ixome\n",
      "gene 284111 not in ixome\n",
      "gene 100196913 not in ixome\n",
      "gene 339896 not in ixome\n",
      "gene 2558 not in ixome\n",
      "gene 134860 not in ixome\n",
      "gene 266722 not in ixome\n",
      "gene 753 not in ixome\n",
      "gene 1243 not in ixome\n",
      "gene 387572 not in ixome\n",
      "gene 345193 not in ixome\n",
      "gene 619493 not in ixome\n",
      "gene 100188832 not in ixome\n",
      "gene 50948 not in ixome\n",
      "gene 677663 not in ixome\n",
      "gene 30813 not in ixome\n",
      "gene 128408 not in ixome\n",
      "gene 133584 not in ixome\n"
     ]
    }
   ],
   "source": [
    "bipolar_genes, bipolar_ixome, bipolar_not_ixome = get_disease_genes(\"bipolar\")"
   ]
  },
  {
   "cell_type": "code",
   "execution_count": 9,
   "metadata": {},
   "outputs": [
    {
     "data": {
      "text/plain": [
       "(70, 108)"
      ]
     },
     "execution_count": 9,
     "metadata": {},
     "output_type": "execute_result"
    }
   ],
   "source": [
    "len(bipolar_ixome), len(bipolar_genes)"
   ]
  },
  {
   "cell_type": "code",
   "execution_count": 10,
   "metadata": {},
   "outputs": [],
   "source": [
    "def get_disease_subgraph(disease_genes, ixome):\n",
    "    return ixome.G.subgraph(disease_genes)"
   ]
  },
  {
   "cell_type": "code",
   "execution_count": null,
   "metadata": {},
   "outputs": [
    {
     "data": {
      "image/png": "[encoded data removed]",
      "text/plain": [
       "<Figure size 432x288 with 1 Axes>"
      ]
     },
     "metadata": {},
     "output_type": "display_data"
    }
   ],
   "source": [
    "bipolar_module = get_disease_subgraph(bipolar_ixome, ixome)\n",
    "nx.draw_networkx(bipolar_module, with_labels=False, node_size=10)"
   ]
  },
  {
   "cell_type": "code",
   "execution_count": null,
   "metadata": {},
   "outputs": [],
   "source": [
    "for cc in nx.connected_components(bipolar_module):\n",
    "    print(len(cc.nodes()))"
   ]
  },
  {
   "cell_type": "code",
   "execution_count": null,
   "metadata": {},
   "outputs": [],
   "source": [
    "bipolar_module.edges()"
   ]
  },
  {
   "cell_type": "code",
   "execution_count": null,
   "metadata": {},
   "outputs": [],
   "source": [
    "schiz_graph.edges()"
   ]
  },
  {
   "cell_type": "code",
   "execution_count": null,
   "metadata": {},
   "outputs": [],
   "source": []
  }
 ],
 "metadata": {
  "kernelspec": {
   "display_name": "deep",
   "language": "python",
   "name": "deep"
  },
  "language_info": {
   "codemirror_mode": {
    "name": "ipython",
    "version": 3
   },
   "file_extension": ".py",
   "mimetype": "text/x-python",
   "name": "python",
   "nbconvert_exporter": "python",
   "pygments_lexer": "ipython3",
   "version": "3.6.3"
  },
  "varInspector": {
   "cols": {
    "lenName": 16,
    "lenType": 16,
    "lenVar": 40
   },
   "kernels_config": {
    "python": {
     "delete_cmd_postfix": "",
     "delete_cmd_prefix": "del ",
     "library": "var_list.py",
     "varRefreshCmd": "print(var_dic_list())"
    },
    "r": {
     "delete_cmd_postfix": ") ",
     "delete_cmd_prefix": "rm(",
     "library": "var_list.r",
     "varRefreshCmd": "cat(var_dic_list()) "
    }
   },
   "types_to_exclude": [
    "module",
    "function",
    "builtin_function_or_method",
    "instance",
    "_Feature"
   ],
   "window_display": false
  }
 },
 "nbformat": 4,
 "nbformat_minor": 2
}
